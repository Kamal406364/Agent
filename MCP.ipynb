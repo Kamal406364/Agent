{
 "cells": [
  {
   "cell_type": "code",
   "execution_count": null,
   "id": "8dfe85ad",
   "metadata": {},
   "outputs": [],
   "source": [
    "from dotenv import load_dotenv\n",
    "import os\n",
    "\n",
    "from langchain_tavily import TavilySearch\n",
    "from langchain_google_genai import ChatGoogleGenerativeAI\n",
    "from langchain.tools import tool\n",
    "from langgraph.checkpoint.memory import MemorySaver\n",
    "from langgraph.graph import StateGraph, END\n",
    "from langgraph.prebuilt import ToolNode, create_react_agent\n"
   ]
  },
  {
   "cell_type": "code",
   "execution_count": null,
   "id": "f2a2c516",
   "metadata": {},
   "outputs": [],
   "source": [
    "load_dotenv()\n",
    "\n",
    "GOOGLE_API_KEY = os.getenv(\"GOOGLE_API_KEY\")"
   ]
  },
  {
   "cell_type": "code",
   "execution_count": null,
   "id": "3f314ac0",
   "metadata": {},
   "outputs": [],
   "source": [
    "def get_gemini_model(temp=0.6):\n",
    "    return ChatGoogleGenerativeAI(\n",
    "        model=\"gemini-2.5-pro\",\n",
    "        temperature=temp,\n",
    "        google_api_key=GOOGLE_API_KEY\n",
    "    )\n"
   ]
  },
  {
   "cell_type": "code",
   "execution_count": null,
   "id": "0a27069a",
   "metadata": {},
   "outputs": [],
   "source": [
    "@tool\n",
    "def arithmetic_tool(expression: str) -> str:\n",
    "    \"\"\"Evaluate a basic arithmetic expression and return the result.\"\"\"\n",
    "    try:\n",
    "        result = eval(expression, {\"__builtins__\": {}})\n",
    "        return f\"The result of {expression} is {result}\"\n",
    "    except Exception as e:\n",
    "        return f\"Error evaluating expression: {e}\"\n"
   ]
  },
  {
   "cell_type": "code",
   "execution_count": null,
   "id": "ecae276c",
   "metadata": {},
   "outputs": [],
   "source": [
    "@tool\n",
    "def summarize_text(text: str) -> str:\n",
    "    \"\"\"Summarize the provided text into a concise statement.\"\"\"\n",
    "    model = get_gemini_model(0.3)\n",
    "    summary = model.invoke(f\"Summarize the following text in 2-3 sentences:\\n\\n{text}\")\n",
    "    return getattr(summary, \"content\", str(summary))\n"
   ]
  },
  {
   "cell_type": "code",
   "execution_count": null,
   "id": "714ba864",
   "metadata": {},
   "outputs": [],
   "source": [
    "@tool\n",
    "def suggest_medications(disease: str) -> str:\n",
    "    \"\"\"Suggest possible medications for the given disease (for educational purposes only).\"\"\"\n",
    "    model = get_gemini_model(0.3)\n",
    "    meds = model.invoke(f\"Suggest common medications for {disease}. \"\n",
    "                        \"This is for informational purposes only and not medical advice.\")\n",
    "    return getattr(meds, \"content\", str(meds))\n"
   ]
  },
  {
   "cell_type": "code",
   "execution_count": null,
   "id": "9a1f3eb7",
   "metadata": {},
   "outputs": [],
   "source": [
    "@tool\n",
    "def decision_helper(situation: str) -> str:\n",
    "    \"\"\"Suggest a possible decision for the given situation.\"\"\"\n",
    "    model = get_gemini_model(0.6)\n",
    "    decision = model.invoke(f\"Given the following situation, suggest a reasonable decision: {situation}\")\n",
    "    return getattr(decision, \"content\", str(decision))\n"
   ]
  },
  {
   "cell_type": "code",
   "execution_count": null,
   "id": "0be8d684",
   "metadata": {},
   "outputs": [],
   "source": [
    "search = TavilySearch(max_results=2)\n",
    "tools = [search, arithmetic_tool, summarize_text, suggest_medications, decision_helper]\n",
    "\n",
    "\n",
    "memory = MemorySaver()\n",
    "main_agent = create_react_agent(get_gemini_model(0.7), tools, checkpointer=memory)\n",
    "\n",
    "\n",
    "workflow = StateGraph(dict)"
   ]
  },
  {
   "cell_type": "code",
   "execution_count": null,
   "id": "395f615a",
   "metadata": {},
   "outputs": [],
   "source": [
    "def agent_node(state):\n",
    "    print(\">>> Running Main Agent...\")\n",
    "    response = main_agent.invoke(\n",
    "        {\"messages\": state[\"messages\"]},\n",
    "        config={\"configurable\": {\"thread_id\": state[\"thread_id\"]}}\n",
    "    )\n",
    "    state[\"agent_response\"] = response\n",
    "    return state\n",
    "\n",
    "workflow.add_node(\"agent\", agent_node)\n",
    "\n",
    "workflow.add_edge(\"agent\", END)\n",
    "\n",
    "workflow.set_entry_point(\"agent\")\n",
    "\n",
    "app = workflow.compile()\n"
   ]
  },
  {
   "cell_type": "code",
   "execution_count": 3,
   "id": "57584a61",
   "metadata": {},
   "outputs": [
    {
     "name": "stdout",
     "output_type": "stream",
     "text": [
      ">>> Running Main Agent...\n",
      "\n",
      "Final Result:\n",
      "{'messages': [HumanMessage(content='I am in a situation where I need to decide whether to invest in a new business venture or save my money. What should I do?', additional_kwargs={}, response_metadata={}, id='08580a05-aa84-4a2c-a158-f86a5a76e4f7'), AIMessage(content='', additional_kwargs={'function_call': {'name': 'decision_helper', 'arguments': '{\"situation\": \"Deciding whether to invest in a new business venture or save money.\"}'}}, response_metadata={'prompt_feedback': {'block_reason': 0, 'safety_ratings': []}, 'finish_reason': 'STOP', 'model_name': 'gemini-2.5-pro', 'safety_ratings': []}, id='run--c2ac0bbb-c482-44eb-8212-4d7fc26326e7-0', tool_calls=[{'name': 'decision_helper', 'args': {'situation': 'Deciding whether to invest in a new business venture or save money.'}, 'id': '7fd0b9e8-5322-466c-917c-aa2385329b5c', 'type': 'tool_call'}], usage_metadata={'input_tokens': 1439, 'output_tokens': 177, 'total_tokens': 1616, 'input_token_details': {'cache_read': 0}, 'output_token_details': {'reasoning': 150}}), ToolMessage(content='Of course. This is a classic and important financial dilemma. A reasonable decision here isn\\'t a simple \"yes\" or \"no,\" but rather a conclusion you reach after a thorough and honest self-assessment.\\n\\nHere is a structured framework to help you make a reasonable decision, broken down into key areas to evaluate.\\n\\n---\\n\\n### Executive Summary: The Core Question\\n\\nThe decision boils down to this: **Can you afford for this investment to go to zero without derailing your essential financial goals and personal well-being?**\\n\\n*   **Saving** is about building **security**. It\\'s a low-risk, low-reward activity that creates a foundation for your future.\\n*   **Investing in a new venture** is about pursuing **opportunity**. It\\'s a high-risk, potentially high-reward activity that could accelerate your wealth but could also result in a total loss.\\n\\nA reasonable decision balances these two needs.\\n\\n---\\n\\n### Step 1: Analyze Your Personal Financial Health (The \"Security\" Check)\\n\\nBefore you even look at the business plan, you must assess your own financial stability. If you don\\'t pass this stage, the default decision should be to **save**.\\n\\n**Ask yourself these questions:**\\n\\n1.  **Do you have an emergency fund?**\\n    *   This should be 3-6 months of essential living expenses saved in a liquid, easily accessible account. This is your non-negotiable safety net.\\n    *   **Verdict:** If you don\\'t have this, your priority is to **save**. Do not invest your emergency fund.\\n\\n2.  **Do you have high-interest debt?**\\n    *   This includes credit card debt, personal loans, or any debt with an interest rate over 7-8%.\\n    *   **Verdict:** Paying off high-interest debt provides a *guaranteed, risk-free return* equal to the interest rate. It\\'s almost always more financially prudent to pay this off before making a high-risk investment.\\n\\n3.  **Are you on track with your retirement savings?**\\n    *   Are you consistently contributing to a 401(k), IRA, or other retirement vehicle? Sacrificing your long-term future for a speculative short-term gain is a dangerous gamble.\\n    *   **Verdict:** If you are behind on retirement goals, focus on **saving** and investing in diversified, long-term funds first.\\n\\n**If you have a solid emergency fund, no high-interest debt, and are on track for retirement, you can proceed to Step 2.**\\n\\n---\\n\\n### Step 2: Scrutinize the Business Venture (The \"Opportunity\" Check)\\n\\nNow, evaluate the investment itself with a critical, objective eye. Don\\'t let excitement or a relationship with the founder cloud your judgment.\\n\\n**Key areas to investigate:**\\n\\n1.  **The Business Plan:** Is there a clear, well-researched plan? It should detail:\\n    *   **The Problem:** What problem does it solve? Is it a real need?\\n    *   **The Solution:** How does the product/service solve it better than competitors?\\n    *   **The Market:** Who are the customers? How big is the market?\\n    *   **The Financials:** Realistic revenue projections, startup costs, and cash flow analysis.\\n    *   **The Team:** Who is running the business? Do they have the expertise, experience, and resilience to succeed?\\n\\n2.  **Your Role and Knowledge:**\\n    *   Are you a passive investor (just providing cash) or an active participant?\\n    *   Do you understand the industry? The old adage \"invest in what you know\" significantly reduces your risk.\\n\\n3.  **The Risk vs. Reward:**\\n    *   **Potential Loss:** Assume the money you invest will be lost. How much are you willing to lose? This is your maximum investment amount.\\n    *   **Potential Gain:** What is the realistic best-case scenario? Is the potential return worth the immense risk? (Remember, most new businesses fail).\\n    *   **Exit Strategy:** How will you get your money back? Through profit-sharing, selling your stake, or an acquisition? Is there a clear plan for this?\\n\\n---\\n\\n### Step 3: Consider Your Personal Factors (The \"Human\" Check)\\n\\nThis is about your personal goals, timeline, and emotional capacity for risk.\\n\\n1.  **Risk Tolerance:** How would you emotionally and financially handle losing the entire investment? If the thought keeps you up at night, it\\'s not the right move for you.\\n2.  **Life Stage:** A 25-year-old with a long career ahead can afford to take more risks than a 55-year-old approaching retirement.\\n3.  **Opportunity Cost:** What is the *next best thing* you could do with that money? (e.g., a down payment on a house, further education, a safer investment in an S&P 500 index fund). Is this venture a better use of the capital than those alternatives?\\n\\n---\\n\\n### Suggested Reasonable Decisions (Based on Scenarios)\\n\\n#### Scenario A: The clear decision is to SAVE.\\n*   You do not have a 3-6 month emergency fund.\\n*   You have high-interest credit card debt.\\n*   The business plan is weak, vague, or based purely on hype.\\n*   You don\\'t understand the industry.\\n*   Losing the money would cause you significant financial or emotional distress.\\n\\n#### Scenario B: It is REASONABLE TO CONSIDER INVESTING.\\n*   Your personal finances are secure (emergency fund, no bad debt, retirement on track).\\n*   The business plan is strong, and the team is credible.\\n*   You understand the business and the risks involved.\\n*   The amount you plan to invest is money you can truly afford to lose.\\n*   The potential reward justifies the risk in your personal financial plan.\\n\\n#### Scenario C: The HYBRID APPROACH is most reasonable.\\n*   This is often the best path for many people. You don\\'t have to choose all or nothing.\\n*   **Decision:** Allocate a smaller portion of your capital to the venture—an amount you are 100% comfortable losing. At the same time, beef up your savings with the rest. For example, if you were considering a $20,000 investment, perhaps invest $5,000 and put the other $15,000 into savings or a safer investment. This allows you to participate in the upside while still prioritizing your financial security.\\n\\n**Final Recommendation:** The most reasonable decision is the one made with open eyes after a rigorous and honest assessment. **Prioritize your financial security first.** Only once that foundation is unshakable should you use *truly* disposable income to take a calculated risk on a high-potential opportunity.', name='decision_helper', id='46ccd725-5b25-4cc0-9382-f165d0e8c687', tool_call_id='7fd0b9e8-5322-466c-917c-aa2385329b5c'), AIMessage(content='This is a classic and important financial dilemma. A reasonable decision here isn\\'t a simple \"yes\" or \"no,\" but rather a conclusion you reach after a thorough and honest self-assessment.\\n\\nHere is a structured framework to help you make a reasonable decision, broken down into key areas to evaluate.\\n\\n---\\n\\n### Executive Summary: The Core Question\\n\\nThe decision boils down to this: **Can you afford for this investment to go to zero without derailing your essential financial goals and personal well-being?**\\n\\n*   **Saving** is about building **security**. It\\'s a low-risk, low-reward activity that creates a foundation for your future.\\n*   **Investing in a new venture** is about pursuing **opportunity**. It\\'s a high-risk, potentially high-reward activity that could accelerate your wealth but could also result in a total loss.\\n\\nA reasonable decision balances these two needs.\\n\\n---\\n\\n### Step 1: Analyze Your Personal Financial Health (The \"Security\" Check)\\n\\nBefore you even look at the business plan, you must assess your own financial stability. If you don\\'t pass this stage, the default decision should be to **save**.\\n\\n**Ask yourself these questions:**\\n\\n1.  **Do you have an emergency fund?**\\n    *   This should be 3-6 months of essential living expenses saved in a liquid, easily accessible account. This is your non-negotiable safety net.\\n    *   **Verdict:** If you don\\'t have this, your priority is to **save**. Do not invest your emergency fund.\\n\\n2.  **Do you have high-interest debt?**\\n    *   This includes credit card debt, personal loans, or any debt with an interest rate over 7-8%.\\n    *   **Verdict:** Paying off high-interest debt provides a *guaranteed, risk-free return* equal to the interest rate. It\\'s almost always more financially prudent to pay this off before making a high-risk investment.\\n\\n3.  **Are you on track with your retirement savings?**\\n    *   Are you consistently contributing to a 401(k), IRA, or other retirement vehicle? Sacrificing your long-term future for a speculative short-term gain is a dangerous gamble.\\n    *   **Verdict:** If you are behind on retirement goals, focus on **saving** and investing in diversified, long-term funds first.\\n\\n**If you have a solid emergency fund, no high-interest debt, and are on track for retirement, you can proceed to Step 2.**\\n\\n---\\n\\n### Step 2: Scrutinize the Business Venture (The \"Opportunity\" Check)\\n\\nNow, evaluate the investment itself with a critical, objective eye. Don\\'t let excitement or a relationship with the founder cloud your judgment.\\n\\n**Key areas to investigate:**\\n\\n1.  **The Business Plan:** Is there a clear, well-researched plan? It should detail:\\n    *   **The Problem:** What problem does it solve? Is it a real need?\\n    *   **The Solution:** How does the product/service solve it better than competitors?\\n    *   **The Market:** Who are the customers? How big is the market?\\n    *   **The Financials:** Realistic revenue projections, startup costs, and cash flow analysis.\\n    *   **The Team:** Who is running the business? Do they have the expertise, experience, and resilience to succeed?\\n\\n2.  **Your Role and Knowledge:**\\n    *   Are you a passive investor (just providing cash) or an active participant?\\n    *   Do you understand the industry? The old adage \"invest in what you know\" significantly reduces your risk.\\n\\n3.  **The Risk vs. Reward:**\\n    *   **Potential Loss:** Assume the money you invest will be lost. How much are you willing to lose? This is your maximum investment amount.\\n    *   **Potential Gain:** What is the realistic best-case scenario? Is the potential return worth the immense risk? (Remember, most new businesses fail).\\n    *   **Exit Strategy:** How will you get your money back? Through profit-sharing, selling your stake, or an acquisition? Is there a clear plan for this?\\n\\n---\\n\\n### Step 3: Consider Your Personal Factors (The \"Human\" Check)\\n\\nThis is about your personal goals, timeline, and emotional capacity for risk.\\n\\n1.  **Risk Tolerance:** How would you emotionally and financially handle losing the entire investment? If the thought keeps you up at night, it\\'s not the right move for you.\\n2.  **Life Stage:** A 25-year-old with a long career ahead can afford to take more risks than a 55-year-old approaching retirement.\\n3.  **Opportunity Cost:** What is the *next best thing* you could do with that money? (e.g., a down payment on a house, further education, a safer investment in an S&P 500 index fund). Is this venture a better use of the capital than those alternatives?\\n\\n---\\n\\n### Suggested Reasonable Decisions (Based on Scenarios)\\n\\n#### Scenario A: The clear decision is to SAVE.\\n*   You do not have a 3-6 month emergency fund.\\n*   You have high-interest credit card debt.\\n*   The business plan is weak, vague, or based purely on hype.\\n*   You don\\'t understand the industry.\\n*   Losing the money would cause you significant financial or emotional distress.\\n\\n#### Scenario B: It is REASONABLE TO CONSIDER INVESTING.\\n*   Your personal finances are secure (emergency fund, no bad debt, retirement on track).\\n*   The business plan is strong, and the team is credible.\\n*   You understand the business and the risks involved.\\n*   The amount you plan to invest is money you can truly afford to lose.\\n*   The potential reward justifies the risk in your personal financial plan.\\n\\n#### Scenario C: The HYBRID APPROACH is most reasonable.\\n*   This is often the best path for many people. You don\\'t have to choose all or nothing.\\n*   **Decision:** Allocate a smaller portion of your capital to the venture—an amount you are 100% comfortable losing. At the same time, beef up your savings with the rest. For example, if you were considering a $20,000 investment, perhaps invest $5,000 and put the other $15,000 into savings or a safer investment. This allows you to participate in the upside while still prioritizing your financial security.\\n\\n**Final Recommendation:** The most reasonable decision is the one made with open eyes after a rigorous and honest assessment. **Prioritize your financial security first.** Only once that foundation is unshakable should you use *truly* disposable income to take a calculated risk on a high-potential opportunity.', additional_kwargs={}, response_metadata={'prompt_feedback': {'block_reason': 0, 'safety_ratings': []}, 'finish_reason': 'STOP', 'model_name': 'gemini-2.5-pro', 'safety_ratings': []}, id='run--9fadde9c-7ed6-4a48-b379-2ea615c068f7-0', usage_metadata={'input_tokens': 3026, 'output_tokens': 1720, 'total_tokens': 4746, 'input_token_details': {'cache_read': 0}, 'output_token_details': {'reasoning': 254}})]}\n"
     ]
    }
   ],
   "source": [
    "result = app.invoke({\n",
    "    \"messages\": [(\"user\", \"I am in a situation where I need to decide whether to invest in a new business venture or save my money. What should I do?\")],\n",
    "    \"thread_id\": \"session_1\"\n",
    "})\n",
    "print(\"\\nFinal Result:\")\n",
    "\n",
    "print(result[\"agent_response\"])\n"
   ]
  },
  {
   "cell_type": "code",
   "execution_count": null,
   "id": "1cc34335",
   "metadata": {},
   "outputs": [],
   "source": []
  }
 ],
 "metadata": {
  "kernelspec": {
   "display_name": "Python 3",
   "language": "python",
   "name": "python3"
  },
  "language_info": {
   "codemirror_mode": {
    "name": "ipython",
    "version": 3
   },
   "file_extension": ".py",
   "mimetype": "text/x-python",
   "name": "python",
   "nbconvert_exporter": "python",
   "pygments_lexer": "ipython3",
   "version": "3.11.9"
  }
 },
 "nbformat": 4,
 "nbformat_minor": 5
}
